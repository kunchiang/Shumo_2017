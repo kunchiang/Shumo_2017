{
 "cells": [
  {
   "cell_type": "code",
   "execution_count": 1,
   "metadata": {
    "collapsed": true
   },
   "outputs": [],
   "source": [
    "import numpy as np\n",
    "import pandas as pd\n",
    "from matplotlib.pyplot import plot as plt"
   ]
  },
  {
   "cell_type": "code",
   "execution_count": 8,
   "metadata": {
    "collapsed": true
   },
   "outputs": [],
   "source": [
    "a = pd.read_excel(\"a.xlsx\")\n",
    "b = pd.read_excel(\"b.xlsx\")\n",
    "c = pd.read_excel(\"c.xlsx\")\n",
    "d = pd.read_excel(\"d.xlsx\")\n",
    "e = pd.read_excel(\"e.xlsx\")\n",
    "f = pd.read_excel(\"f.xlsx\")"
   ]
  },
  {
   "cell_type": "code",
   "execution_count": 5,
   "metadata": {
    "collapsed": false
   },
   "outputs": [
    {
     "data": {
      "text/html": [
       "<div>\n",
       "<style scoped>\n",
       "    .dataframe tbody tr th:only-of-type {\n",
       "        vertical-align: middle;\n",
       "    }\n",
       "\n",
       "    .dataframe tbody tr th {\n",
       "        vertical-align: top;\n",
       "    }\n",
       "\n",
       "    .dataframe thead th {\n",
       "        text-align: right;\n",
       "    }\n",
       "</style>\n",
       "<table border=\"1\" class=\"dataframe\">\n",
       "  <thead>\n",
       "    <tr style=\"text-align: right;\">\n",
       "      <th></th>\n",
       "      <th>题目类型</th>\n",
       "      <th>队号</th>\n",
       "      <th>队长姓名</th>\n",
       "      <th>队长所在学校</th>\n",
       "      <th>第一队友姓名</th>\n",
       "      <th>第一队友所在学校</th>\n",
       "      <th>第二队友姓名</th>\n",
       "      <th>第二队友所在学校</th>\n",
       "      <th>所获奖项</th>\n",
       "    </tr>\n",
       "  </thead>\n",
       "  <tbody>\n",
       "    <tr>\n",
       "      <th>0</th>\n",
       "      <td>A</td>\n",
       "      <td>10013008</td>\n",
       "      <td>高雄</td>\n",
       "      <td>北京邮电大学</td>\n",
       "      <td>李响</td>\n",
       "      <td>北京邮电大学</td>\n",
       "      <td>陈彦虎</td>\n",
       "      <td>北京邮电大学</td>\n",
       "      <td>一等奖</td>\n",
       "    </tr>\n",
       "    <tr>\n",
       "      <th>1</th>\n",
       "      <td>A</td>\n",
       "      <td>10147001</td>\n",
       "      <td>蒲凌杰</td>\n",
       "      <td>辽宁工程技术大学</td>\n",
       "      <td>吕雅婷</td>\n",
       "      <td>辽宁工程技术大学</td>\n",
       "      <td>赵静</td>\n",
       "      <td>辽宁工程技术大学</td>\n",
       "      <td>一等奖</td>\n",
       "    </tr>\n",
       "    <tr>\n",
       "      <th>2</th>\n",
       "      <td>A</td>\n",
       "      <td>10252401</td>\n",
       "      <td>朱伟明</td>\n",
       "      <td>上海理工大学</td>\n",
       "      <td>王宁</td>\n",
       "      <td>上海理工大学</td>\n",
       "      <td>吕鹏程</td>\n",
       "      <td>上海理工大学</td>\n",
       "      <td>一等奖</td>\n",
       "    </tr>\n",
       "    <tr>\n",
       "      <th>3</th>\n",
       "      <td>A</td>\n",
       "      <td>10254014</td>\n",
       "      <td>徐凤新</td>\n",
       "      <td>上海海事大学</td>\n",
       "      <td>朱若琪</td>\n",
       "      <td>上海海事大学</td>\n",
       "      <td>吴方</td>\n",
       "      <td>上海海事大学</td>\n",
       "      <td>一等奖</td>\n",
       "    </tr>\n",
       "    <tr>\n",
       "      <th>4</th>\n",
       "      <td>A</td>\n",
       "      <td>10270029</td>\n",
       "      <td>黄中武</td>\n",
       "      <td>上海师范大学</td>\n",
       "      <td>彭钰</td>\n",
       "      <td>上海师范大学</td>\n",
       "      <td>丁子怡</td>\n",
       "      <td>上海师范大学</td>\n",
       "      <td>一等奖</td>\n",
       "    </tr>\n",
       "  </tbody>\n",
       "</table>\n",
       "</div>"
      ],
      "text/plain": [
       "  题目类型        队号 队长姓名    队长所在学校 第一队友姓名  第一队友所在学校 第二队友姓名  第二队友所在学校 所获奖项\n",
       "0    A  10013008   高雄    北京邮电大学     李响    北京邮电大学    陈彦虎    北京邮电大学  一等奖\n",
       "1    A  10147001  蒲凌杰  辽宁工程技术大学    吕雅婷  辽宁工程技术大学     赵静  辽宁工程技术大学  一等奖\n",
       "2    A  10252401  朱伟明    上海理工大学     王宁    上海理工大学    吕鹏程    上海理工大学  一等奖\n",
       "3    A  10254014  徐凤新    上海海事大学    朱若琪    上海海事大学     吴方    上海海事大学  一等奖\n",
       "4    A  10270029  黄中武    上海师范大学     彭钰    上海师范大学    丁子怡    上海师范大学  一等奖"
      ]
     },
     "execution_count": 5,
     "metadata": {},
     "output_type": "execute_result"
    }
   ],
   "source": [
    "a.head()"
   ]
  },
  {
   "cell_type": "code",
   "execution_count": 16,
   "metadata": {
    "collapsed": true
   },
   "outputs": [],
   "source": [
    "data = a.append(b).append(c).append(d).append(e).append(f)"
   ]
  },
  {
   "cell_type": "code",
   "execution_count": 17,
   "metadata": {
    "collapsed": false
   },
   "outputs": [],
   "source": [
    "data.reset_index(drop=True,inplace=True)"
   ]
  },
  {
   "cell_type": "code",
   "execution_count": 20,
   "metadata": {
    "collapsed": false
   },
   "outputs": [],
   "source": [
    "data.rename({u'题目类型':'Problem',\n",
    "             u'队号':'Team',\n",
    "             u'队长姓名':'CaptainName',\n",
    "             u'队长所在学校':'CaptainSchool',\n",
    "             u'第一队友姓名':'FirstMemberName',\n",
    "             u'第一队友所在学校':'FirstMemberSchool',\n",
    "             u'第二队友姓名':'SecondMemberName',\n",
    "             u'第二队友所在学校':'SecondMemberSchool',\n",
    "             u'所获奖项':'Prize'\n",
    "            },axis=1,inplace = True)"
   ]
  },
  {
   "cell_type": "code",
   "execution_count": 21,
   "metadata": {
    "collapsed": false
   },
   "outputs": [
    {
     "data": {
      "text/html": [
       "<div>\n",
       "<style scoped>\n",
       "    .dataframe tbody tr th:only-of-type {\n",
       "        vertical-align: middle;\n",
       "    }\n",
       "\n",
       "    .dataframe tbody tr th {\n",
       "        vertical-align: top;\n",
       "    }\n",
       "\n",
       "    .dataframe thead th {\n",
       "        text-align: right;\n",
       "    }\n",
       "</style>\n",
       "<table border=\"1\" class=\"dataframe\">\n",
       "  <thead>\n",
       "    <tr style=\"text-align: right;\">\n",
       "      <th></th>\n",
       "      <th>Problem</th>\n",
       "      <th>Team</th>\n",
       "      <th>CaptainName</th>\n",
       "      <th>CaptainSchool</th>\n",
       "      <th>FirstMemberName</th>\n",
       "      <th>FirstMemberSchool</th>\n",
       "      <th>SecondMemberName</th>\n",
       "      <th>SecondMemberSchool</th>\n",
       "      <th>Prize</th>\n",
       "    </tr>\n",
       "  </thead>\n",
       "  <tbody>\n",
       "    <tr>\n",
       "      <th>0</th>\n",
       "      <td>A</td>\n",
       "      <td>10013008</td>\n",
       "      <td>高雄</td>\n",
       "      <td>北京邮电大学</td>\n",
       "      <td>李响</td>\n",
       "      <td>北京邮电大学</td>\n",
       "      <td>陈彦虎</td>\n",
       "      <td>北京邮电大学</td>\n",
       "      <td>一等奖</td>\n",
       "    </tr>\n",
       "    <tr>\n",
       "      <th>1</th>\n",
       "      <td>A</td>\n",
       "      <td>10147001</td>\n",
       "      <td>蒲凌杰</td>\n",
       "      <td>辽宁工程技术大学</td>\n",
       "      <td>吕雅婷</td>\n",
       "      <td>辽宁工程技术大学</td>\n",
       "      <td>赵静</td>\n",
       "      <td>辽宁工程技术大学</td>\n",
       "      <td>一等奖</td>\n",
       "    </tr>\n",
       "    <tr>\n",
       "      <th>2</th>\n",
       "      <td>A</td>\n",
       "      <td>10252401</td>\n",
       "      <td>朱伟明</td>\n",
       "      <td>上海理工大学</td>\n",
       "      <td>王宁</td>\n",
       "      <td>上海理工大学</td>\n",
       "      <td>吕鹏程</td>\n",
       "      <td>上海理工大学</td>\n",
       "      <td>一等奖</td>\n",
       "    </tr>\n",
       "    <tr>\n",
       "      <th>3</th>\n",
       "      <td>A</td>\n",
       "      <td>10254014</td>\n",
       "      <td>徐凤新</td>\n",
       "      <td>上海海事大学</td>\n",
       "      <td>朱若琪</td>\n",
       "      <td>上海海事大学</td>\n",
       "      <td>吴方</td>\n",
       "      <td>上海海事大学</td>\n",
       "      <td>一等奖</td>\n",
       "    </tr>\n",
       "    <tr>\n",
       "      <th>4</th>\n",
       "      <td>A</td>\n",
       "      <td>10270029</td>\n",
       "      <td>黄中武</td>\n",
       "      <td>上海师范大学</td>\n",
       "      <td>彭钰</td>\n",
       "      <td>上海师范大学</td>\n",
       "      <td>丁子怡</td>\n",
       "      <td>上海师范大学</td>\n",
       "      <td>一等奖</td>\n",
       "    </tr>\n",
       "  </tbody>\n",
       "</table>\n",
       "</div>"
      ],
      "text/plain": [
       "  Problem      Team CaptainName CaptainSchool FirstMemberName  \\\n",
       "0       A  10013008          高雄        北京邮电大学              李响   \n",
       "1       A  10147001         蒲凌杰      辽宁工程技术大学             吕雅婷   \n",
       "2       A  10252401         朱伟明        上海理工大学              王宁   \n",
       "3       A  10254014         徐凤新        上海海事大学             朱若琪   \n",
       "4       A  10270029         黄中武        上海师范大学              彭钰   \n",
       "\n",
       "  FirstMemberSchool SecondMemberName SecondMemberSchool Prize  \n",
       "0            北京邮电大学              陈彦虎             北京邮电大学   一等奖  \n",
       "1          辽宁工程技术大学               赵静           辽宁工程技术大学   一等奖  \n",
       "2            上海理工大学              吕鹏程             上海理工大学   一等奖  \n",
       "3            上海海事大学               吴方             上海海事大学   一等奖  \n",
       "4            上海师范大学              丁子怡             上海师范大学   一等奖  "
      ]
     },
     "execution_count": 21,
     "metadata": {},
     "output_type": "execute_result"
    }
   ],
   "source": [
    "data.head()"
   ]
  },
  {
   "cell_type": "code",
   "execution_count": null,
   "metadata": {
    "collapsed": true
   },
   "outputs": [],
   "source": []
  }
 ],
 "metadata": {
  "kernelspec": {
   "display_name": "Python 2",
   "language": "python",
   "name": "python2"
  },
  "language_info": {
   "codemirror_mode": {
    "name": "ipython",
    "version": 2
   },
   "file_extension": ".py",
   "mimetype": "text/x-python",
   "name": "python",
   "nbconvert_exporter": "python",
   "pygments_lexer": "ipython2",
   "version": "2.7.13"
  }
 },
 "nbformat": 4,
 "nbformat_minor": 2
}
