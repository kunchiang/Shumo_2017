{
 "cells": [
  {
   "cell_type": "code",
   "execution_count": 1,
   "metadata": {
    "collapsed": true
   },
   "outputs": [],
   "source": [
    "import numpy as np\n",
    "import pandas as pd\n",
    "import matplotlib.pyplot as plt"
   ]
  },
  {
   "cell_type": "code",
   "execution_count": 2,
   "metadata": {
    "collapsed": true
   },
   "outputs": [],
   "source": [
    "a = pd.read_excel(\"data/a.xlsx\")\n",
    "b = pd.read_excel(\"data/b.xlsx\")\n",
    "c = pd.read_excel(\"data/c.xlsx\")\n",
    "d = pd.read_excel(\"data/d.xlsx\")\n",
    "e = pd.read_excel(\"data/e.xlsx\")\n",
    "f = pd.read_excel(\"data/f.xlsx\")"
   ]
  },
  {
   "cell_type": "code",
   "execution_count": 3,
   "metadata": {
    "collapsed": false
   },
   "outputs": [
    {
     "data": {
      "text/html": [
       "<div>\n",
       "<table border=\"1\" class=\"dataframe\">\n",
       "  <thead>\n",
       "    <tr style=\"text-align: right;\">\n",
       "      <th></th>\n",
       "      <th>题目类型</th>\n",
       "      <th>队号</th>\n",
       "      <th>队长姓名</th>\n",
       "      <th>队长所在学校</th>\n",
       "      <th>第一队友姓名</th>\n",
       "      <th>第一队友所在学校</th>\n",
       "      <th>第二队友姓名</th>\n",
       "      <th>第二队友所在学校</th>\n",
       "      <th>所获奖项</th>\n",
       "    </tr>\n",
       "  </thead>\n",
       "  <tbody>\n",
       "    <tr>\n",
       "      <th>0</th>\n",
       "      <td>A</td>\n",
       "      <td>10013008</td>\n",
       "      <td>高雄</td>\n",
       "      <td>北京邮电大学</td>\n",
       "      <td>李响</td>\n",
       "      <td>北京邮电大学</td>\n",
       "      <td>陈彦虎</td>\n",
       "      <td>北京邮电大学</td>\n",
       "      <td>一等奖</td>\n",
       "    </tr>\n",
       "    <tr>\n",
       "      <th>1</th>\n",
       "      <td>A</td>\n",
       "      <td>10147001</td>\n",
       "      <td>蒲凌杰</td>\n",
       "      <td>辽宁工程技术大学</td>\n",
       "      <td>吕雅婷</td>\n",
       "      <td>辽宁工程技术大学</td>\n",
       "      <td>赵静</td>\n",
       "      <td>辽宁工程技术大学</td>\n",
       "      <td>一等奖</td>\n",
       "    </tr>\n",
       "    <tr>\n",
       "      <th>2</th>\n",
       "      <td>A</td>\n",
       "      <td>10252401</td>\n",
       "      <td>朱伟明</td>\n",
       "      <td>上海理工大学</td>\n",
       "      <td>王宁</td>\n",
       "      <td>上海理工大学</td>\n",
       "      <td>吕鹏程</td>\n",
       "      <td>上海理工大学</td>\n",
       "      <td>一等奖</td>\n",
       "    </tr>\n",
       "    <tr>\n",
       "      <th>3</th>\n",
       "      <td>A</td>\n",
       "      <td>10254014</td>\n",
       "      <td>徐凤新</td>\n",
       "      <td>上海海事大学</td>\n",
       "      <td>朱若琪</td>\n",
       "      <td>上海海事大学</td>\n",
       "      <td>吴方</td>\n",
       "      <td>上海海事大学</td>\n",
       "      <td>一等奖</td>\n",
       "    </tr>\n",
       "    <tr>\n",
       "      <th>4</th>\n",
       "      <td>A</td>\n",
       "      <td>10270029</td>\n",
       "      <td>黄中武</td>\n",
       "      <td>上海师范大学</td>\n",
       "      <td>彭钰</td>\n",
       "      <td>上海师范大学</td>\n",
       "      <td>丁子怡</td>\n",
       "      <td>上海师范大学</td>\n",
       "      <td>一等奖</td>\n",
       "    </tr>\n",
       "  </tbody>\n",
       "</table>\n",
       "</div>"
      ],
      "text/plain": [
       "  题目类型        队号 队长姓名    队长所在学校 第一队友姓名  第一队友所在学校 第二队友姓名  第二队友所在学校 所获奖项\n",
       "0    A  10013008   高雄    北京邮电大学     李响    北京邮电大学    陈彦虎    北京邮电大学  一等奖\n",
       "1    A  10147001  蒲凌杰  辽宁工程技术大学    吕雅婷  辽宁工程技术大学     赵静  辽宁工程技术大学  一等奖\n",
       "2    A  10252401  朱伟明    上海理工大学     王宁    上海理工大学    吕鹏程    上海理工大学  一等奖\n",
       "3    A  10254014  徐凤新    上海海事大学    朱若琪    上海海事大学     吴方    上海海事大学  一等奖\n",
       "4    A  10270029  黄中武    上海师范大学     彭钰    上海师范大学    丁子怡    上海师范大学  一等奖"
      ]
     },
     "execution_count": 3,
     "metadata": {},
     "output_type": "execute_result"
    }
   ],
   "source": [
    "a.head()"
   ]
  },
  {
   "cell_type": "code",
   "execution_count": 4,
   "metadata": {
    "collapsed": true
   },
   "outputs": [],
   "source": [
    "data = a.append(b).append(c).append(d).append(e).append(f)"
   ]
  },
  {
   "cell_type": "code",
   "execution_count": 5,
   "metadata": {
    "collapsed": false
   },
   "outputs": [],
   "source": [
    "data.reset_index(drop=True,inplace=True)"
   ]
  },
  {
   "cell_type": "code",
   "execution_count": 6,
   "metadata": {
    "collapsed": false
   },
   "outputs": [],
   "source": [
    "data = data.rename({u'题目类型':'Problem',\n",
    "             u'队号':'Team',\n",
    "             u'队长姓名':'CaptainName',\n",
    "             u'队长所在学校':'CaptainSchool',\n",
    "             u'第一队友姓名':'FirstMemberName',\n",
    "             u'第一队友所在学校':'FirstMemberSchool',\n",
    "             u'第二队友姓名':'SecondMemberName',\n",
    "             u'第二队友所在学校':'SecondMemberSchool',\n",
    "             u'所获奖项':'Prize'\n",
    "            })"
   ]
  },
  {
   "cell_type": "code",
   "execution_count": 7,
   "metadata": {
    "collapsed": false
   },
   "outputs": [
    {
     "data": {
      "text/html": [
       "<div>\n",
       "<table border=\"1\" class=\"dataframe\">\n",
       "  <thead>\n",
       "    <tr style=\"text-align: right;\">\n",
       "      <th></th>\n",
       "      <th>题目类型</th>\n",
       "      <th>队号</th>\n",
       "      <th>队长姓名</th>\n",
       "      <th>队长所在学校</th>\n",
       "      <th>第一队友姓名</th>\n",
       "      <th>第一队友所在学校</th>\n",
       "      <th>第二队友姓名</th>\n",
       "      <th>第二队友所在学校</th>\n",
       "      <th>所获奖项</th>\n",
       "    </tr>\n",
       "  </thead>\n",
       "  <tbody>\n",
       "    <tr>\n",
       "      <th>0</th>\n",
       "      <td>A</td>\n",
       "      <td>10013008</td>\n",
       "      <td>高雄</td>\n",
       "      <td>北京邮电大学</td>\n",
       "      <td>李响</td>\n",
       "      <td>北京邮电大学</td>\n",
       "      <td>陈彦虎</td>\n",
       "      <td>北京邮电大学</td>\n",
       "      <td>一等奖</td>\n",
       "    </tr>\n",
       "    <tr>\n",
       "      <th>1</th>\n",
       "      <td>A</td>\n",
       "      <td>10147001</td>\n",
       "      <td>蒲凌杰</td>\n",
       "      <td>辽宁工程技术大学</td>\n",
       "      <td>吕雅婷</td>\n",
       "      <td>辽宁工程技术大学</td>\n",
       "      <td>赵静</td>\n",
       "      <td>辽宁工程技术大学</td>\n",
       "      <td>一等奖</td>\n",
       "    </tr>\n",
       "    <tr>\n",
       "      <th>2</th>\n",
       "      <td>A</td>\n",
       "      <td>10252401</td>\n",
       "      <td>朱伟明</td>\n",
       "      <td>上海理工大学</td>\n",
       "      <td>王宁</td>\n",
       "      <td>上海理工大学</td>\n",
       "      <td>吕鹏程</td>\n",
       "      <td>上海理工大学</td>\n",
       "      <td>一等奖</td>\n",
       "    </tr>\n",
       "    <tr>\n",
       "      <th>3</th>\n",
       "      <td>A</td>\n",
       "      <td>10254014</td>\n",
       "      <td>徐凤新</td>\n",
       "      <td>上海海事大学</td>\n",
       "      <td>朱若琪</td>\n",
       "      <td>上海海事大学</td>\n",
       "      <td>吴方</td>\n",
       "      <td>上海海事大学</td>\n",
       "      <td>一等奖</td>\n",
       "    </tr>\n",
       "    <tr>\n",
       "      <th>4</th>\n",
       "      <td>A</td>\n",
       "      <td>10270029</td>\n",
       "      <td>黄中武</td>\n",
       "      <td>上海师范大学</td>\n",
       "      <td>彭钰</td>\n",
       "      <td>上海师范大学</td>\n",
       "      <td>丁子怡</td>\n",
       "      <td>上海师范大学</td>\n",
       "      <td>一等奖</td>\n",
       "    </tr>\n",
       "  </tbody>\n",
       "</table>\n",
       "</div>"
      ],
      "text/plain": [
       "  题目类型        队号 队长姓名    队长所在学校 第一队友姓名  第一队友所在学校 第二队友姓名  第二队友所在学校 所获奖项\n",
       "0    A  10013008   高雄    北京邮电大学     李响    北京邮电大学    陈彦虎    北京邮电大学  一等奖\n",
       "1    A  10147001  蒲凌杰  辽宁工程技术大学    吕雅婷  辽宁工程技术大学     赵静  辽宁工程技术大学  一等奖\n",
       "2    A  10252401  朱伟明    上海理工大学     王宁    上海理工大学    吕鹏程    上海理工大学  一等奖\n",
       "3    A  10254014  徐凤新    上海海事大学    朱若琪    上海海事大学     吴方    上海海事大学  一等奖\n",
       "4    A  10270029  黄中武    上海师范大学     彭钰    上海师范大学    丁子怡    上海师范大学  一等奖"
      ]
     },
     "execution_count": 7,
     "metadata": {},
     "output_type": "execute_result"
    }
   ],
   "source": [
    "data.head()"
   ]
  },
  {
   "cell_type": "code",
   "execution_count": 8,
   "metadata": {
    "collapsed": true
   },
   "outputs": [],
   "source": [
    "totalNumber = len(data)"
   ]
  },
  {
   "cell_type": "code",
   "execution_count": 9,
   "metadata": {
    "collapsed": true
   },
   "outputs": [],
   "source": [
    "gb_p = data.groupby(u'题目类型')"
   ]
  },
  {
   "cell_type": "code",
   "execution_count": 10,
   "metadata": {
    "collapsed": true
   },
   "outputs": [],
   "source": [
    "p_s = list()\n",
    "num_p = list()\n",
    "for p, df_p in gb_p:\n",
    "    p_s.append(str(p))\n",
    "    num_p.append(len(df_p))"
   ]
  },
  {
   "cell_type": "code",
   "execution_count": 76,
   "metadata": {
    "collapsed": false
   },
   "outputs": [
    {
     "name": "stderr",
     "output_type": "stream",
     "text": [
      "D:\\ProgramData\\Anaconda2\\lib\\site-packages\\matplotlib\\axes\\_axes.py:545: UserWarning: No labelled objects found. Use label='...' kwarg on individual plots.\n",
      "  warnings.warn(\"No labelled objects found. \"\n"
     ]
    },
    {
     "data": {
      "image/png": "[encoded data removed]",
      "text/plain": [
       "<matplotlib.figure.Figure at 0xa955320>"
      ]
     },
     "metadata": {},
     "output_type": "display_data"
    }
   ],
   "source": [
    "plt.figure(figsize=(10,5))\n",
    "x = range(len(p_s))\n",
    "plt.xticks(x,p_s,rotation=0)\n",
    "plt.bar(x,num_p)\n",
    "plt.title(u'选题人数对比')\n",
    "plt.xlabel(u'题号')\n",
    "plt.ylabel(u'选择人数')\n",
    "plt.legend()\n",
    "plt.show()"
   ]
  },
  {
   "cell_type": "code",
   "execution_count": 12,
   "metadata": {
    "collapsed": false
   },
   "outputs": [],
   "source": [
    "mix = len([str(d) for d in data[u'队号'].values.tolist() if 'K' in str(d)])"
   ]
  },
  {
   "cell_type": "code",
   "execution_count": 13,
   "metadata": {
    "collapsed": false
   },
   "outputs": [],
   "source": [
    "oth = totalNumber - mix"
   ]
  },
  {
   "cell_type": "code",
   "execution_count": 77,
   "metadata": {
    "collapsed": false
   },
   "outputs": [
    {
     "data": {
      "image/png": "[encoded data removed]",
      "text/plain": [
       "<matplotlib.figure.Figure at 0xdf16cf8>"
      ]
     },
     "metadata": {},
     "output_type": "display_data"
    }
   ],
   "source": [
    "plt.figure(figsize=(5,10))\n",
    "lab = [u'混合队', u'同校队']\n",
    "y = [mix, oth]\n",
    "explode = [0.1, 0] # 0.1 凸出这部分，\n",
    "plt.axes(aspect=1) # set this , Figure is round, otherwise it is an ellipse\n",
    "plt.pie(y,labels=lab,autopct='%3.1f %%',explode=explode,\n",
    "        shadow=False, labeldistance=1.1, startangle = 90,pctdistance = 0.6)\n",
    "plt.title(u'混合队占比')\n",
    "plt.show()"
   ]
  },
  {
   "cell_type": "code",
   "execution_count": 16,
   "metadata": {
    "collapsed": true
   },
   "outputs": [],
   "source": [
    "gb_s = data.groupby(u'队长所在学校')"
   ]
  },
  {
   "cell_type": "code",
   "execution_count": 56,
   "metadata": {
    "collapsed": false
   },
   "outputs": [],
   "source": [
    "sch = [k for k in gb_s.groups.keys()]\n",
    "num_sch = [len(v) for k,v in gb_s]"
   ]
  },
  {
   "cell_type": "code",
   "execution_count": 57,
   "metadata": {
    "collapsed": false
   },
   "outputs": [],
   "source": [
    "sorted_s = np.sort(num_sch)"
   ]
  },
  {
   "cell_type": "code",
   "execution_count": 79,
   "metadata": {
    "collapsed": false
   },
   "outputs": [],
   "source": [
    "y = sorted_s[-30:][::-1]\n",
    "lab = []\n",
    "for i in range(len(y)):\n",
    "    for s, df_s in gb_s:\n",
    "        if len(df_s) == y[i] and s not in lab:\n",
    "            lab.append(s)"
   ]
  },
  {
   "cell_type": "code",
   "execution_count": 80,
   "metadata": {
    "collapsed": false
   },
   "outputs": [
    {
     "data": {
      "image/png": "[encoded data removed]",
      "text/plain": [
       "<matplotlib.figure.Figure at 0xb9a3c50>"
      ]
     },
     "metadata": {},
     "output_type": "display_data"
    }
   ],
   "source": [
    "plt.figure(figsize=(10,5))\n",
    "x = range(len(lab))\n",
    "plt.rcParams['font.sans-serif']=['SimHei'] #用来正常显示中文标签\n",
    "plt.xticks(x,lab,rotation=90)\n",
    "plt.bar(x,y)\n",
    "plt.title(u'各校参加队伍数量对比')\n",
    "plt.xlabel(u'高校')\n",
    "plt.ylabel(u'参加队伍数量')\n",
    "plt.legend()\n",
    "plt.show()"
   ]
  },
  {
   "cell_type": "code",
   "execution_count": null,
   "metadata": {
    "collapsed": true
   },
   "outputs": [],
   "source": []
  },
  {
   "cell_type": "code",
   "execution_count": null,
   "metadata": {
    "collapsed": true
   },
   "outputs": [],
   "source": []
  },
  {
   "cell_type": "code",
   "execution_count": null,
   "metadata": {
    "collapsed": true
   },
   "outputs": [],
   "source": []
  },
  {
   "cell_type": "code",
   "execution_count": null,
   "metadata": {
    "collapsed": true
   },
   "outputs": [],
   "source": []
  },
  {
   "cell_type": "code",
   "execution_count": null,
   "metadata": {
    "collapsed": true
   },
   "outputs": [],
   "source": []
  }
 ],
 "metadata": {
  "kernelspec": {
   "display_name": "Python 2",
   "language": "python",
   "name": "python2"
  },
  "language_info": {
   "codemirror_mode": {
    "name": "ipython",
    "version": 2
   },
   "file_extension": ".py",
   "mimetype": "text/x-python",
   "name": "python",
   "nbconvert_exporter": "python",
   "pygments_lexer": "ipython2",
   "version": "2.7.13"
  }
 },
 "nbformat": 4,
 "nbformat_minor": 2
}
